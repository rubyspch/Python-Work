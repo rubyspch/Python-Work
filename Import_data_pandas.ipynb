{
  "nbformat": 4,
  "nbformat_minor": 0,
  "metadata": {
    "colab": {
      "name": "Untitled0.ipynb",
      "provenance": [],
      "authorship_tag": "ABX9TyP12uAFB0/kwiSQYUYRvuT5",
      "include_colab_link": true
    },
    "kernelspec": {
      "name": "python3",
      "display_name": "Python 3"
    },
    "language_info": {
      "name": "python"
    }
  },
  "cells": [
    {
      "cell_type": "markdown",
      "metadata": {
        "id": "view-in-github",
        "colab_type": "text"
      },
      "source": [
        "<a href=\"https://colab.research.google.com/github/rubyspch/Python-Work/blob/main/Import_data_pandas.ipynb\" target=\"_parent\"><img src=\"https://colab.research.google.com/assets/colab-badge.svg\" alt=\"Open In Colab\"/></a>"
      ]
    },
    {
      "cell_type": "code",
      "metadata": {
        "id": "E4viRka1tCzO"
      },
      "source": [
        "import numpy as np\n",
        "import pandas as pd\n"
      ],
      "execution_count": 20,
      "outputs": []
    },
    {
      "cell_type": "markdown",
      "metadata": {
        "id": "DDvjX4UctcGr"
      },
      "source": [
        "using pd.read_csv? - pandas can easily read data with this\n",
        "pd.read_csv('file name')\n"
      ]
    },
    {
      "cell_type": "code",
      "metadata": {
        "id": "oSwGZ3kut1cJ"
      },
      "source": [
        "df=pd.read_csv('btc-market-price.csv')"
      ],
      "execution_count": 39,
      "outputs": []
    },
    {
      "cell_type": "code",
      "metadata": {
        "colab": {
          "base_uri": "https://localhost:8080/",
          "height": 204
        },
        "id": "XQ_z4vtquIch",
        "outputId": "1b3cffec-edf4-4c81-bea2-1fcaf447d5f3"
      },
      "source": [
        "df.head()"
      ],
      "execution_count": 22,
      "outputs": [
        {
          "output_type": "execute_result",
          "data": {
            "text/html": [
              "<div>\n",
              "<style scoped>\n",
              "    .dataframe tbody tr th:only-of-type {\n",
              "        vertical-align: middle;\n",
              "    }\n",
              "\n",
              "    .dataframe tbody tr th {\n",
              "        vertical-align: top;\n",
              "    }\n",
              "\n",
              "    .dataframe thead th {\n",
              "        text-align: right;\n",
              "    }\n",
              "</style>\n",
              "<table border=\"1\" class=\"dataframe\">\n",
              "  <thead>\n",
              "    <tr style=\"text-align: right;\">\n",
              "      <th></th>\n",
              "      <th>2017-04-02 00:00:00</th>\n",
              "      <th>1099.169125</th>\n",
              "    </tr>\n",
              "  </thead>\n",
              "  <tbody>\n",
              "    <tr>\n",
              "      <th>0</th>\n",
              "      <td>2017-04-03 00:00:00</td>\n",
              "      <td>1141.813000</td>\n",
              "    </tr>\n",
              "    <tr>\n",
              "      <th>1</th>\n",
              "      <td>2017-04-04 00:00:00</td>\n",
              "      <td>1141.600363</td>\n",
              "    </tr>\n",
              "    <tr>\n",
              "      <th>2</th>\n",
              "      <td>2017-04-05 00:00:00</td>\n",
              "      <td>1133.079314</td>\n",
              "    </tr>\n",
              "    <tr>\n",
              "      <th>3</th>\n",
              "      <td>2017-04-06 00:00:00</td>\n",
              "      <td>1196.307937</td>\n",
              "    </tr>\n",
              "    <tr>\n",
              "      <th>4</th>\n",
              "      <td>2017-04-07 00:00:00</td>\n",
              "      <td>1190.454250</td>\n",
              "    </tr>\n",
              "  </tbody>\n",
              "</table>\n",
              "</div>"
            ],
            "text/plain": [
              "   2017-04-02 00:00:00  1099.169125\n",
              "0  2017-04-03 00:00:00  1141.813000\n",
              "1  2017-04-04 00:00:00  1141.600363\n",
              "2  2017-04-05 00:00:00  1133.079314\n",
              "3  2017-04-06 00:00:00  1196.307937\n",
              "4  2017-04-07 00:00:00  1190.454250"
            ]
          },
          "metadata": {
            "tags": []
          },
          "execution_count": 22
        }
      ]
    },
    {
      "cell_type": "markdown",
      "metadata": {
        "id": "pVO0eOYsuOQP"
      },
      "source": [
        "by default pd ignores the first line as a header. can do header=none attriute to stop this\n"
      ]
    },
    {
      "cell_type": "code",
      "metadata": {
        "id": "vF2KvMaqvKjg"
      },
      "source": [
        "df.columns=['Timestamp', 'Price']"
      ],
      "execution_count": 23,
      "outputs": []
    },
    {
      "cell_type": "code",
      "metadata": {
        "colab": {
          "base_uri": "https://localhost:8080/"
        },
        "id": "1KhPBXfjuiF1",
        "outputId": "89ed8d1e-e9b6-4e5b-d22c-1bdda50468de"
      },
      "source": [
        "df.shape"
      ],
      "execution_count": 24,
      "outputs": [
        {
          "output_type": "execute_result",
          "data": {
            "text/plain": [
              "(364, 2)"
            ]
          },
          "metadata": {
            "tags": []
          },
          "execution_count": 24
        }
      ]
    },
    {
      "cell_type": "code",
      "metadata": {
        "colab": {
          "base_uri": "https://localhost:8080/"
        },
        "id": "MojWgyueulTM",
        "outputId": "f5b4f179-76ea-4237-fede-c38d51df6704"
      },
      "source": [
        "df.info"
      ],
      "execution_count": 25,
      "outputs": [
        {
          "output_type": "execute_result",
          "data": {
            "text/plain": [
              "<bound method DataFrame.info of                Timestamp        Price\n",
              "0    2017-04-03 00:00:00  1141.813000\n",
              "1    2017-04-04 00:00:00  1141.600363\n",
              "2    2017-04-05 00:00:00  1133.079314\n",
              "3    2017-04-06 00:00:00  1196.307937\n",
              "4    2017-04-07 00:00:00  1190.454250\n",
              "..                   ...          ...\n",
              "359  2018-03-28 00:00:00  7960.380000\n",
              "360  2018-03-29 00:00:00  7172.280000\n",
              "361  2018-03-30 00:00:00  6882.531667\n",
              "362  2018-03-31 00:00:00  6935.480000\n",
              "363  2018-04-01 00:00:00  6794.105000\n",
              "\n",
              "[364 rows x 2 columns]>"
            ]
          },
          "metadata": {
            "tags": []
          },
          "execution_count": 25
        }
      ]
    },
    {
      "cell_type": "code",
      "metadata": {
        "colab": {
          "base_uri": "https://localhost:8080/"
        },
        "id": "kRiy7TgBurSl",
        "outputId": "4dff16c1-64c2-4f6c-841b-9ea537b0d011"
      },
      "source": [
        "df.dtypes"
      ],
      "execution_count": 26,
      "outputs": [
        {
          "output_type": "execute_result",
          "data": {
            "text/plain": [
              "Timestamp     object\n",
              "Price        float64\n",
              "dtype: object"
            ]
          },
          "metadata": {
            "tags": []
          },
          "execution_count": 26
        }
      ]
    },
    {
      "cell_type": "markdown",
      "metadata": {
        "id": "pwmRaM2auw0M"
      },
      "source": [
        "Says timestamp data is parsed as 'object'. Need to fix this by doing this:"
      ]
    },
    {
      "cell_type": "code",
      "metadata": {
        "id": "iqpYMIjYu1-z"
      },
      "source": [
        "df['Timestamp']=pd.to_datetime(df['Timestamp'])"
      ],
      "execution_count": 27,
      "outputs": []
    },
    {
      "cell_type": "markdown",
      "metadata": {
        "id": "NV1gq7N1vdG-"
      },
      "source": [
        "Now we want to set timestamp to be the index to quickly access price info:"
      ]
    },
    {
      "cell_type": "code",
      "metadata": {
        "id": "o1LFlYDlvjMp"
      },
      "source": [
        "df.set_index('Timestamp', inplace=True)"
      ],
      "execution_count": 28,
      "outputs": []
    },
    {
      "cell_type": "markdown",
      "metadata": {
        "id": "itqLMtFqv-3H"
      },
      "source": [
        "What if we want to do all this at once automatically everyday...\n",
        "\n",
        "This is everything we've done so far:\n",
        "\n",
        "```\n",
        "df=pd.read_csv('btc-market-price.csv')\n",
        "df.columns=['Timestamp', 'Price']\n",
        "df['Timestamp']=pd.to_datetime(df['Timestamp'])\n",
        "df.set_index('Timestamp', inplace=True)\n",
        "```\n",
        "WELL-\n",
        "read_csv has powerful enough attributes to do all this on its own:\n",
        "\n",
        "\n"
      ]
    },
    {
      "cell_type": "code",
      "metadata": {
        "colab": {
          "base_uri": "https://localhost:8080/"
        },
        "id": "5uMdOU91wrD0",
        "outputId": "eaae7d3e-d153-4eab-a527-1d33e121efa2"
      },
      "source": [
        "quick_df= pd.read_csv(\n",
        "    'btc-market-price.csv',\n",
        "    header=None,\n",
        "    names=['Timestamp', 'Price'],\n",
        "    index_col=0,\n",
        "    parse_dates=True,\n",
        ")\n",
        "quick_df.head()\n",
        "quick_df.loc['2018-03-23']"
      ],
      "execution_count": 37,
      "outputs": [
        {
          "output_type": "execute_result",
          "data": {
            "text/plain": [
              "Price    8686.826667\n",
              "Name: 2018-03-23 00:00:00, dtype: float64"
            ]
          },
          "metadata": {
            "tags": []
          },
          "execution_count": 37
        }
      ]
    },
    {
      "cell_type": "markdown",
      "metadata": {
        "id": "bAQhkohXyDwT"
      },
      "source": [
        "Plotting..."
      ]
    },
    {
      "cell_type": "code",
      "metadata": {
        "colab": {
          "base_uri": "https://localhost:8080/",
          "height": 308
        },
        "id": "NND39IaRyGXM",
        "outputId": "3e8aaf17-c8d7-4bd7-e708-38a786f72557"
      },
      "source": [
        "quick_df.plot()"
      ],
      "execution_count": 38,
      "outputs": [
        {
          "output_type": "execute_result",
          "data": {
            "text/plain": [
              "<matplotlib.axes._subplots.AxesSubplot at 0x7f2fde2e8b90>"
            ]
          },
          "metadata": {
            "tags": []
          },
          "execution_count": 38
        },
        {
          "output_type": "display_data",
          "data": {
            "image/png": "[encoded data removed]",
            "text/plain": [
              "<Figure size 432x288 with 1 Axes>"
            ]
          },
          "metadata": {
            "tags": [],
            "needs_background": "light"
          }
        }
      ]
    },
    {
      "cell_type": "markdown",
      "metadata": {
        "id": "HmhjlH0XyLqJ"
      },
      "source": [
        "maplot library is part of py data stock. .plot() method creates a plot esy peasy"
      ]
    }
  ]
}